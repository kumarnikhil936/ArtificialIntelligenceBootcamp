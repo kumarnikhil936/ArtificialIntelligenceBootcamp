{
  "nbformat": 4,
  "nbformat_minor": 0,
  "metadata": {
    "colab": {
      "name": "ComputingDescriptiveStatisticsWithPandas.ipynb",
      "version": "0.3.2",
      "provenance": [],
      "collapsed_sections": [],
      "include_colab_link": true
    },
    "kernelspec": {
      "name": "python3",
      "display_name": "Python 3"
    }
  },
  "cells": [
    {
      "cell_type": "markdown",
      "metadata": {
        "id": "view-in-github",
        "colab_type": "text"
      },
      "source": [
        "<a href=\"https://colab.research.google.com/github/kumarnikhil936/ArtificialIntelligenceBootcamp/blob/master/ComputingDescriptiveStatisticsWithPandas.ipynb\" target=\"_parent\"><img src=\"https://colab.research.google.com/assets/colab-badge.svg\" alt=\"Open In Colab\"/></a>"
      ]
    },
    {
      "metadata": {
        "id": "9Vwr_0B0CuPO",
        "colab_type": "code",
        "colab": {}
      },
      "cell_type": "code",
      "source": [
        "import pandas as pd \n",
        "from sklearn.datasets import load_iris"
      ],
      "execution_count": 0,
      "outputs": []
    },
    {
      "metadata": {
        "id": "LzByOK142Oan",
        "colab_type": "code",
        "colab": {}
      },
      "cell_type": "code",
      "source": [
        "iris_obj = load_iris() # Load iris dataset"
      ],
      "execution_count": 0,
      "outputs": []
    },
    {
      "metadata": {
        "id": "CuTlpqCC2cl_",
        "colab_type": "code",
        "colab": {
          "base_uri": "https://localhost:8080/",
          "height": 37
        },
        "outputId": "7129cc16-b7ce-4b80-c548-d0d70fd8d261"
      },
      "cell_type": "code",
      "source": [
        "type(iris_obj.data) # ND array"
      ],
      "execution_count": 7,
      "outputs": [
        {
          "output_type": "execute_result",
          "data": {
            "text/plain": [
              "numpy.ndarray"
            ]
          },
          "metadata": {
            "tags": []
          },
          "execution_count": 7
        }
      ]
    },
    {
      "metadata": {
        "id": "y7zmy4K32gFc",
        "colab_type": "code",
        "colab": {
          "base_uri": "https://localhost:8080/",
          "height": 95
        },
        "outputId": "6e5cf9b1-d5ff-4369-bc98-b9a5802d112c"
      },
      "cell_type": "code",
      "source": [
        "iris_obj.feature_names # 4 features"
      ],
      "execution_count": 9,
      "outputs": [
        {
          "output_type": "execute_result",
          "data": {
            "text/plain": [
              "['sepal length (cm)',\n",
              " 'sepal width (cm)',\n",
              " 'petal length (cm)',\n",
              " 'petal width (cm)']"
            ]
          },
          "metadata": {
            "tags": []
          },
          "execution_count": 9
        }
      ]
    },
    {
      "metadata": {
        "id": "Z7WEUNEj2xZ5",
        "colab_type": "code",
        "colab": {
          "base_uri": "https://localhost:8080/",
          "height": 37
        },
        "outputId": "825847d8-f6ac-4f81-87ee-06470b54d639"
      },
      "cell_type": "code",
      "source": [
        "iris_obj.target_names # 3 classes"
      ],
      "execution_count": 10,
      "outputs": [
        {
          "output_type": "execute_result",
          "data": {
            "text/plain": [
              "array(['setosa', 'versicolor', 'virginica'], dtype='<U10')"
            ]
          },
          "metadata": {
            "tags": []
          },
          "execution_count": 10
        }
      ]
    },
    {
      "metadata": {
        "id": "RziWiCru29Jd",
        "colab_type": "code",
        "colab": {}
      },
      "cell_type": "code",
      "source": [
        "# Create dataframes from the data\n",
        "data = pd.DataFrame(data=iris_obj.data, columns=iris_obj.feature_names, index=pd.Index([i for i in range(iris_obj.data.shape[0])]))\n",
        "target = pd.DataFrame(data=iris_obj.target, columns=pd.Index([\"species\"]), index=pd.Index([i for i in range(iris_obj.target.shape[0])]))"
      ],
      "execution_count": 0,
      "outputs": []
    },
    {
      "metadata": {
        "id": "FDBWj0Rt4EIQ",
        "colab_type": "code",
        "colab": {
          "base_uri": "https://localhost:8080/",
          "height": 202
        },
        "outputId": "c4a9f2a1-8e29-4573-91d8-cc5bd4b4b0ef"
      },
      "cell_type": "code",
      "source": [
        "# Join labels and features in one dataframe\n",
        "iris = data.join(target)\n",
        "iris.head()"
      ],
      "execution_count": 19,
      "outputs": [
        {
          "output_type": "execute_result",
          "data": {
            "text/html": [
              "<div>\n",
              "<style scoped>\n",
              "    .dataframe tbody tr th:only-of-type {\n",
              "        vertical-align: middle;\n",
              "    }\n",
              "\n",
              "    .dataframe tbody tr th {\n",
              "        vertical-align: top;\n",
              "    }\n",
              "\n",
              "    .dataframe thead th {\n",
              "        text-align: right;\n",
              "    }\n",
              "</style>\n",
              "<table border=\"1\" class=\"dataframe\">\n",
              "  <thead>\n",
              "    <tr style=\"text-align: right;\">\n",
              "      <th></th>\n",
              "      <th>sepal length (cm)</th>\n",
              "      <th>sepal width (cm)</th>\n",
              "      <th>petal length (cm)</th>\n",
              "      <th>petal width (cm)</th>\n",
              "      <th>species</th>\n",
              "    </tr>\n",
              "  </thead>\n",
              "  <tbody>\n",
              "    <tr>\n",
              "      <th>0</th>\n",
              "      <td>5.1</td>\n",
              "      <td>3.5</td>\n",
              "      <td>1.4</td>\n",
              "      <td>0.2</td>\n",
              "      <td>0</td>\n",
              "    </tr>\n",
              "    <tr>\n",
              "      <th>1</th>\n",
              "      <td>4.9</td>\n",
              "      <td>3.0</td>\n",
              "      <td>1.4</td>\n",
              "      <td>0.2</td>\n",
              "      <td>0</td>\n",
              "    </tr>\n",
              "    <tr>\n",
              "      <th>2</th>\n",
              "      <td>4.7</td>\n",
              "      <td>3.2</td>\n",
              "      <td>1.3</td>\n",
              "      <td>0.2</td>\n",
              "      <td>0</td>\n",
              "    </tr>\n",
              "    <tr>\n",
              "      <th>3</th>\n",
              "      <td>4.6</td>\n",
              "      <td>3.1</td>\n",
              "      <td>1.5</td>\n",
              "      <td>0.2</td>\n",
              "      <td>0</td>\n",
              "    </tr>\n",
              "    <tr>\n",
              "      <th>4</th>\n",
              "      <td>5.0</td>\n",
              "      <td>3.6</td>\n",
              "      <td>1.4</td>\n",
              "      <td>0.2</td>\n",
              "      <td>0</td>\n",
              "    </tr>\n",
              "  </tbody>\n",
              "</table>\n",
              "</div>"
            ],
            "text/plain": [
              "   sepal length (cm)  sepal width (cm)  petal length (cm)  petal width (cm)  \\\n",
              "0                5.1               3.5                1.4               0.2   \n",
              "1                4.9               3.0                1.4               0.2   \n",
              "2                4.7               3.2                1.3               0.2   \n",
              "3                4.6               3.1                1.5               0.2   \n",
              "4                5.0               3.6                1.4               0.2   \n",
              "\n",
              "   species  \n",
              "0        0  \n",
              "1        0  \n",
              "2        0  \n",
              "3        0  \n",
              "4        0  "
            ]
          },
          "metadata": {
            "tags": []
          },
          "execution_count": 19
        }
      ]
    },
    {
      "metadata": {
        "id": "hP7mSQ2-4E9p",
        "colab_type": "code",
        "colab": {}
      },
      "cell_type": "code",
      "source": [
        "iris.species.replace({0: \"setosa\", 1: \"versicolor\", 2: \"virginica\"}, inplace=True) # replace number in labels with actual species name"
      ],
      "execution_count": 0,
      "outputs": []
    },
    {
      "metadata": {
        "id": "Sy7OI7FC5Ewx",
        "colab_type": "code",
        "colab": {
          "base_uri": "https://localhost:8080/",
          "height": 423
        },
        "outputId": "c08086ab-c1f3-4fc5-e225-d635bb8aaa41"
      },
      "cell_type": "code",
      "source": [
        "# To perform descriptive statistcs on groups, we need to group the targets\n",
        "iris_groups = iris.groupby(by=\"species\")\n",
        "\n",
        "for name, dat in iris_groups:\n",
        "  print(name, '\\n', dat.iloc[:5, 0:4])"
      ],
      "execution_count": 26,
      "outputs": [
        {
          "output_type": "stream",
          "text": [
            "setosa \n",
            "    sepal length (cm)  sepal width (cm)  petal length (cm)  petal width (cm)\n",
            "0                5.1               3.5                1.4               0.2\n",
            "1                4.9               3.0                1.4               0.2\n",
            "2                4.7               3.2                1.3               0.2\n",
            "3                4.6               3.1                1.5               0.2\n",
            "4                5.0               3.6                1.4               0.2\n",
            "versicolor \n",
            "     sepal length (cm)  sepal width (cm)  petal length (cm)  petal width (cm)\n",
            "50                7.0               3.2                4.7               1.4\n",
            "51                6.4               3.2                4.5               1.5\n",
            "52                6.9               3.1                4.9               1.5\n",
            "53                5.5               2.3                4.0               1.3\n",
            "54                6.5               2.8                4.6               1.5\n",
            "virginica \n",
            "      sepal length (cm)  sepal width (cm)  petal length (cm)  petal width (cm)\n",
            "100                6.3               3.3                6.0               2.5\n",
            "101                5.8               2.7                5.1               1.9\n",
            "102                7.1               3.0                5.9               2.1\n",
            "103                6.3               2.9                5.6               1.8\n",
            "104                6.5               3.0                5.8               2.2\n"
          ],
          "name": "stdout"
        }
      ]
    },
    {
      "metadata": {
        "id": "jLMuMcpo56XL",
        "colab_type": "code",
        "colab": {
          "base_uri": "https://localhost:8080/",
          "height": 171
        },
        "outputId": "31625a1f-f62b-42ca-c70d-34930c7a08e7"
      },
      "cell_type": "code",
      "source": [
        "iris_groups.count()"
      ],
      "execution_count": 30,
      "outputs": [
        {
          "output_type": "execute_result",
          "data": {
            "text/html": [
              "<div>\n",
              "<style scoped>\n",
              "    .dataframe tbody tr th:only-of-type {\n",
              "        vertical-align: middle;\n",
              "    }\n",
              "\n",
              "    .dataframe tbody tr th {\n",
              "        vertical-align: top;\n",
              "    }\n",
              "\n",
              "    .dataframe thead th {\n",
              "        text-align: right;\n",
              "    }\n",
              "</style>\n",
              "<table border=\"1\" class=\"dataframe\">\n",
              "  <thead>\n",
              "    <tr style=\"text-align: right;\">\n",
              "      <th></th>\n",
              "      <th>sepal length (cm)</th>\n",
              "      <th>sepal width (cm)</th>\n",
              "      <th>petal length (cm)</th>\n",
              "      <th>petal width (cm)</th>\n",
              "    </tr>\n",
              "    <tr>\n",
              "      <th>species</th>\n",
              "      <th></th>\n",
              "      <th></th>\n",
              "      <th></th>\n",
              "      <th></th>\n",
              "    </tr>\n",
              "  </thead>\n",
              "  <tbody>\n",
              "    <tr>\n",
              "      <th>setosa</th>\n",
              "      <td>50</td>\n",
              "      <td>50</td>\n",
              "      <td>50</td>\n",
              "      <td>50</td>\n",
              "    </tr>\n",
              "    <tr>\n",
              "      <th>versicolor</th>\n",
              "      <td>50</td>\n",
              "      <td>50</td>\n",
              "      <td>50</td>\n",
              "      <td>50</td>\n",
              "    </tr>\n",
              "    <tr>\n",
              "      <th>virginica</th>\n",
              "      <td>50</td>\n",
              "      <td>50</td>\n",
              "      <td>50</td>\n",
              "      <td>50</td>\n",
              "    </tr>\n",
              "  </tbody>\n",
              "</table>\n",
              "</div>"
            ],
            "text/plain": [
              "            sepal length (cm)  sepal width (cm)  petal length (cm)  \\\n",
              "species                                                              \n",
              "setosa                     50                50                 50   \n",
              "versicolor                 50                50                 50   \n",
              "virginica                  50                50                 50   \n",
              "\n",
              "            petal width (cm)  \n",
              "species                       \n",
              "setosa                    50  \n",
              "versicolor                50  \n",
              "virginica                 50  "
            ]
          },
          "metadata": {
            "tags": []
          },
          "execution_count": 30
        }
      ]
    },
    {
      "metadata": {
        "id": "oTfAhN8g7bLQ",
        "colab_type": "code",
        "colab": {
          "base_uri": "https://localhost:8080/",
          "height": 114
        },
        "outputId": "ad960d39-ea10-4857-d937-15a5a51bab3e"
      },
      "cell_type": "code",
      "source": [
        "iris.mean()"
      ],
      "execution_count": 31,
      "outputs": [
        {
          "output_type": "execute_result",
          "data": {
            "text/plain": [
              "sepal length (cm)    5.843333\n",
              "sepal width (cm)     3.057333\n",
              "petal length (cm)    3.758000\n",
              "petal width (cm)     1.199333\n",
              "dtype: float64"
            ]
          },
          "metadata": {
            "tags": []
          },
          "execution_count": 31
        }
      ]
    },
    {
      "metadata": {
        "id": "HGii9ztC8oyA",
        "colab_type": "code",
        "colab": {
          "base_uri": "https://localhost:8080/",
          "height": 114
        },
        "outputId": "b464c4a1-a227-4cac-980b-7d476f4d8eb8"
      },
      "cell_type": "code",
      "source": [
        "iris.var()"
      ],
      "execution_count": 32,
      "outputs": [
        {
          "output_type": "execute_result",
          "data": {
            "text/plain": [
              "sepal length (cm)    0.685694\n",
              "sepal width (cm)     0.189979\n",
              "petal length (cm)    3.116278\n",
              "petal width (cm)     0.581006\n",
              "dtype: float64"
            ]
          },
          "metadata": {
            "tags": []
          },
          "execution_count": 32
        }
      ]
    },
    {
      "metadata": {
        "id": "fTftqz168sQD",
        "colab_type": "code",
        "colab": {
          "base_uri": "https://localhost:8080/",
          "height": 133
        },
        "outputId": "d000b164-1dee-42fb-f178-8ed330525e1d"
      },
      "cell_type": "code",
      "source": [
        "iris.max()"
      ],
      "execution_count": 33,
      "outputs": [
        {
          "output_type": "execute_result",
          "data": {
            "text/plain": [
              "sepal length (cm)          7.9\n",
              "sepal width (cm)           4.4\n",
              "petal length (cm)          6.9\n",
              "petal width (cm)           2.5\n",
              "species              virginica\n",
              "dtype: object"
            ]
          },
          "metadata": {
            "tags": []
          },
          "execution_count": 33
        }
      ]
    },
    {
      "metadata": {
        "id": "rmlidjia8uOs",
        "colab_type": "code",
        "colab": {
          "base_uri": "https://localhost:8080/",
          "height": 133
        },
        "outputId": "239e2f31-fa66-46ac-8f98-bc0557f159c5"
      },
      "cell_type": "code",
      "source": [
        "iris.min()"
      ],
      "execution_count": 34,
      "outputs": [
        {
          "output_type": "execute_result",
          "data": {
            "text/plain": [
              "sepal length (cm)       4.3\n",
              "sepal width (cm)          2\n",
              "petal length (cm)         1\n",
              "petal width (cm)        0.1\n",
              "species              setosa\n",
              "dtype: object"
            ]
          },
          "metadata": {
            "tags": []
          },
          "execution_count": 34
        }
      ]
    },
    {
      "metadata": {
        "id": "nOwHwSMk81Mm",
        "colab_type": "code",
        "colab": {
          "base_uri": "https://localhost:8080/",
          "height": 114
        },
        "outputId": "61634027-a05b-4073-f367-9156781cfabf"
      },
      "cell_type": "code",
      "source": [
        "iris.quantile(.95)"
      ],
      "execution_count": 38,
      "outputs": [
        {
          "output_type": "execute_result",
          "data": {
            "text/plain": [
              "sepal length (cm)    7.255\n",
              "sepal width (cm)     3.800\n",
              "petal length (cm)    6.100\n",
              "petal width (cm)     2.300\n",
              "Name: 0.95, dtype: float64"
            ]
          },
          "metadata": {
            "tags": []
          },
          "execution_count": 38
        }
      ]
    },
    {
      "metadata": {
        "id": "GiqAP0Lt85Nl",
        "colab_type": "code",
        "colab": {
          "base_uri": "https://localhost:8080/",
          "height": 114
        },
        "outputId": "16a74210-3ad1-4bcd-cee4-b9ce340e2bc4"
      },
      "cell_type": "code",
      "source": [
        "iris.quantile(.75) - iris.quantile(.25) # Interquartile range"
      ],
      "execution_count": 39,
      "outputs": [
        {
          "output_type": "execute_result",
          "data": {
            "text/plain": [
              "sepal length (cm)    1.3\n",
              "sepal width (cm)     0.5\n",
              "petal length (cm)    3.5\n",
              "petal width (cm)     1.5\n",
              "dtype: float64"
            ]
          },
          "metadata": {
            "tags": []
          },
          "execution_count": 39
        }
      ]
    },
    {
      "metadata": {
        "id": "uql5hZf_9TEw",
        "colab_type": "code",
        "colab": {}
      },
      "cell_type": "code",
      "source": [
        "# Most of the above will also work on \"iris_groups\" and will give more granular details"
      ],
      "execution_count": 0,
      "outputs": []
    },
    {
      "metadata": {
        "id": "5MiXugld9lVY",
        "colab_type": "code",
        "colab": {
          "base_uri": "https://localhost:8080/",
          "height": 294
        },
        "outputId": "ef21bc00-5f02-4bcb-9e55-34756101df41"
      },
      "cell_type": "code",
      "source": [
        "iris.describe()"
      ],
      "execution_count": 41,
      "outputs": [
        {
          "output_type": "execute_result",
          "data": {
            "text/html": [
              "<div>\n",
              "<style scoped>\n",
              "    .dataframe tbody tr th:only-of-type {\n",
              "        vertical-align: middle;\n",
              "    }\n",
              "\n",
              "    .dataframe tbody tr th {\n",
              "        vertical-align: top;\n",
              "    }\n",
              "\n",
              "    .dataframe thead th {\n",
              "        text-align: right;\n",
              "    }\n",
              "</style>\n",
              "<table border=\"1\" class=\"dataframe\">\n",
              "  <thead>\n",
              "    <tr style=\"text-align: right;\">\n",
              "      <th></th>\n",
              "      <th>sepal length (cm)</th>\n",
              "      <th>sepal width (cm)</th>\n",
              "      <th>petal length (cm)</th>\n",
              "      <th>petal width (cm)</th>\n",
              "    </tr>\n",
              "  </thead>\n",
              "  <tbody>\n",
              "    <tr>\n",
              "      <th>count</th>\n",
              "      <td>150.000000</td>\n",
              "      <td>150.000000</td>\n",
              "      <td>150.000000</td>\n",
              "      <td>150.000000</td>\n",
              "    </tr>\n",
              "    <tr>\n",
              "      <th>mean</th>\n",
              "      <td>5.843333</td>\n",
              "      <td>3.057333</td>\n",
              "      <td>3.758000</td>\n",
              "      <td>1.199333</td>\n",
              "    </tr>\n",
              "    <tr>\n",
              "      <th>std</th>\n",
              "      <td>0.828066</td>\n",
              "      <td>0.435866</td>\n",
              "      <td>1.765298</td>\n",
              "      <td>0.762238</td>\n",
              "    </tr>\n",
              "    <tr>\n",
              "      <th>min</th>\n",
              "      <td>4.300000</td>\n",
              "      <td>2.000000</td>\n",
              "      <td>1.000000</td>\n",
              "      <td>0.100000</td>\n",
              "    </tr>\n",
              "    <tr>\n",
              "      <th>25%</th>\n",
              "      <td>5.100000</td>\n",
              "      <td>2.800000</td>\n",
              "      <td>1.600000</td>\n",
              "      <td>0.300000</td>\n",
              "    </tr>\n",
              "    <tr>\n",
              "      <th>50%</th>\n",
              "      <td>5.800000</td>\n",
              "      <td>3.000000</td>\n",
              "      <td>4.350000</td>\n",
              "      <td>1.300000</td>\n",
              "    </tr>\n",
              "    <tr>\n",
              "      <th>75%</th>\n",
              "      <td>6.400000</td>\n",
              "      <td>3.300000</td>\n",
              "      <td>5.100000</td>\n",
              "      <td>1.800000</td>\n",
              "    </tr>\n",
              "    <tr>\n",
              "      <th>max</th>\n",
              "      <td>7.900000</td>\n",
              "      <td>4.400000</td>\n",
              "      <td>6.900000</td>\n",
              "      <td>2.500000</td>\n",
              "    </tr>\n",
              "  </tbody>\n",
              "</table>\n",
              "</div>"
            ],
            "text/plain": [
              "       sepal length (cm)  sepal width (cm)  petal length (cm)  \\\n",
              "count         150.000000        150.000000         150.000000   \n",
              "mean            5.843333          3.057333           3.758000   \n",
              "std             0.828066          0.435866           1.765298   \n",
              "min             4.300000          2.000000           1.000000   \n",
              "25%             5.100000          2.800000           1.600000   \n",
              "50%             5.800000          3.000000           4.350000   \n",
              "75%             6.400000          3.300000           5.100000   \n",
              "max             7.900000          4.400000           6.900000   \n",
              "\n",
              "       petal width (cm)  \n",
              "count        150.000000  \n",
              "mean           1.199333  \n",
              "std            0.762238  \n",
              "min            0.100000  \n",
              "25%            0.300000  \n",
              "50%            1.300000  \n",
              "75%            1.800000  \n",
              "max            2.500000  "
            ]
          },
          "metadata": {
            "tags": []
          },
          "execution_count": 41
        }
      ]
    },
    {
      "metadata": {
        "id": "C17zQh9L9n8P",
        "colab_type": "code",
        "colab": {
          "base_uri": "https://localhost:8080/",
          "height": 286
        },
        "outputId": "2a8c6394-9a3b-4799-9f14-8c4496662715"
      },
      "cell_type": "code",
      "source": [
        "iris_groups.describe()"
      ],
      "execution_count": 44,
      "outputs": [
        {
          "output_type": "execute_result",
          "data": {
            "text/html": [
              "<div>\n",
              "<style scoped>\n",
              "    .dataframe tbody tr th:only-of-type {\n",
              "        vertical-align: middle;\n",
              "    }\n",
              "\n",
              "    .dataframe tbody tr th {\n",
              "        vertical-align: top;\n",
              "    }\n",
              "\n",
              "    .dataframe thead tr th {\n",
              "        text-align: left;\n",
              "    }\n",
              "\n",
              "    .dataframe thead tr:last-of-type th {\n",
              "        text-align: right;\n",
              "    }\n",
              "</style>\n",
              "<table border=\"1\" class=\"dataframe\">\n",
              "  <thead>\n",
              "    <tr>\n",
              "      <th></th>\n",
              "      <th colspan=\"8\" halign=\"left\">sepal length (cm)</th>\n",
              "      <th colspan=\"2\" halign=\"left\">sepal width (cm)</th>\n",
              "      <th>...</th>\n",
              "      <th colspan=\"2\" halign=\"left\">petal length (cm)</th>\n",
              "      <th colspan=\"8\" halign=\"left\">petal width (cm)</th>\n",
              "    </tr>\n",
              "    <tr>\n",
              "      <th></th>\n",
              "      <th>count</th>\n",
              "      <th>mean</th>\n",
              "      <th>std</th>\n",
              "      <th>min</th>\n",
              "      <th>25%</th>\n",
              "      <th>50%</th>\n",
              "      <th>75%</th>\n",
              "      <th>max</th>\n",
              "      <th>count</th>\n",
              "      <th>mean</th>\n",
              "      <th>...</th>\n",
              "      <th>75%</th>\n",
              "      <th>max</th>\n",
              "      <th>count</th>\n",
              "      <th>mean</th>\n",
              "      <th>std</th>\n",
              "      <th>min</th>\n",
              "      <th>25%</th>\n",
              "      <th>50%</th>\n",
              "      <th>75%</th>\n",
              "      <th>max</th>\n",
              "    </tr>\n",
              "    <tr>\n",
              "      <th>species</th>\n",
              "      <th></th>\n",
              "      <th></th>\n",
              "      <th></th>\n",
              "      <th></th>\n",
              "      <th></th>\n",
              "      <th></th>\n",
              "      <th></th>\n",
              "      <th></th>\n",
              "      <th></th>\n",
              "      <th></th>\n",
              "      <th></th>\n",
              "      <th></th>\n",
              "      <th></th>\n",
              "      <th></th>\n",
              "      <th></th>\n",
              "      <th></th>\n",
              "      <th></th>\n",
              "      <th></th>\n",
              "      <th></th>\n",
              "      <th></th>\n",
              "      <th></th>\n",
              "    </tr>\n",
              "  </thead>\n",
              "  <tbody>\n",
              "    <tr>\n",
              "      <th>setosa</th>\n",
              "      <td>50.0</td>\n",
              "      <td>5.006</td>\n",
              "      <td>0.352490</td>\n",
              "      <td>4.3</td>\n",
              "      <td>4.800</td>\n",
              "      <td>5.0</td>\n",
              "      <td>5.2</td>\n",
              "      <td>5.8</td>\n",
              "      <td>50.0</td>\n",
              "      <td>3.428</td>\n",
              "      <td>...</td>\n",
              "      <td>1.575</td>\n",
              "      <td>1.9</td>\n",
              "      <td>50.0</td>\n",
              "      <td>0.246</td>\n",
              "      <td>0.105386</td>\n",
              "      <td>0.1</td>\n",
              "      <td>0.2</td>\n",
              "      <td>0.2</td>\n",
              "      <td>0.3</td>\n",
              "      <td>0.6</td>\n",
              "    </tr>\n",
              "    <tr>\n",
              "      <th>versicolor</th>\n",
              "      <td>50.0</td>\n",
              "      <td>5.936</td>\n",
              "      <td>0.516171</td>\n",
              "      <td>4.9</td>\n",
              "      <td>5.600</td>\n",
              "      <td>5.9</td>\n",
              "      <td>6.3</td>\n",
              "      <td>7.0</td>\n",
              "      <td>50.0</td>\n",
              "      <td>2.770</td>\n",
              "      <td>...</td>\n",
              "      <td>4.600</td>\n",
              "      <td>5.1</td>\n",
              "      <td>50.0</td>\n",
              "      <td>1.326</td>\n",
              "      <td>0.197753</td>\n",
              "      <td>1.0</td>\n",
              "      <td>1.2</td>\n",
              "      <td>1.3</td>\n",
              "      <td>1.5</td>\n",
              "      <td>1.8</td>\n",
              "    </tr>\n",
              "    <tr>\n",
              "      <th>virginica</th>\n",
              "      <td>50.0</td>\n",
              "      <td>6.588</td>\n",
              "      <td>0.635880</td>\n",
              "      <td>4.9</td>\n",
              "      <td>6.225</td>\n",
              "      <td>6.5</td>\n",
              "      <td>6.9</td>\n",
              "      <td>7.9</td>\n",
              "      <td>50.0</td>\n",
              "      <td>2.974</td>\n",
              "      <td>...</td>\n",
              "      <td>5.875</td>\n",
              "      <td>6.9</td>\n",
              "      <td>50.0</td>\n",
              "      <td>2.026</td>\n",
              "      <td>0.274650</td>\n",
              "      <td>1.4</td>\n",
              "      <td>1.8</td>\n",
              "      <td>2.0</td>\n",
              "      <td>2.3</td>\n",
              "      <td>2.5</td>\n",
              "    </tr>\n",
              "  </tbody>\n",
              "</table>\n",
              "<p>3 rows × 32 columns</p>\n",
              "</div>"
            ],
            "text/plain": [
              "           sepal length (cm)                                              \\\n",
              "                       count   mean       std  min    25%  50%  75%  max   \n",
              "species                                                                    \n",
              "setosa                  50.0  5.006  0.352490  4.3  4.800  5.0  5.2  5.8   \n",
              "versicolor              50.0  5.936  0.516171  4.9  5.600  5.9  6.3  7.0   \n",
              "virginica               50.0  6.588  0.635880  4.9  6.225  6.5  6.9  7.9   \n",
              "\n",
              "           sepal width (cm)         ... petal length (cm)       \\\n",
              "                      count   mean  ...               75%  max   \n",
              "species                             ...                          \n",
              "setosa                 50.0  3.428  ...             1.575  1.9   \n",
              "versicolor             50.0  2.770  ...             4.600  5.1   \n",
              "virginica              50.0  2.974  ...             5.875  6.9   \n",
              "\n",
              "           petal width (cm)                                            \n",
              "                      count   mean       std  min  25%  50%  75%  max  \n",
              "species                                                                \n",
              "setosa                 50.0  0.246  0.105386  0.1  0.2  0.2  0.3  0.6  \n",
              "versicolor             50.0  1.326  0.197753  1.0  1.2  1.3  1.5  1.8  \n",
              "virginica              50.0  2.026  0.274650  1.4  1.8  2.0  2.3  2.5  \n",
              "\n",
              "[3 rows x 32 columns]"
            ]
          },
          "metadata": {
            "tags": []
          },
          "execution_count": 44
        }
      ]
    },
    {
      "metadata": {
        "id": "gDHimwyt-atz",
        "colab_type": "code",
        "colab": {
          "base_uri": "https://localhost:8080/",
          "height": 114
        },
        "outputId": "1aa17873-3d43-458e-a967-009a7b2e93b1"
      },
      "cell_type": "code",
      "source": [
        "# Manually compute the range of the dataset\n",
        "def range(s):\n",
        "  return s.max() - s.min()\n",
        "\n",
        "iris.iloc[:, :4].apply(range) # pass only the numeric attributes"
      ],
      "execution_count": 46,
      "outputs": [
        {
          "output_type": "execute_result",
          "data": {
            "text/plain": [
              "sepal length (cm)    3.6\n",
              "sepal width (cm)     2.4\n",
              "petal length (cm)    5.9\n",
              "petal width (cm)     2.4\n",
              "dtype: float64"
            ]
          },
          "metadata": {
            "tags": []
          },
          "execution_count": 46
        }
      ]
    },
    {
      "metadata": {
        "id": "VAi8G14k-vAU",
        "colab_type": "code",
        "colab": {
          "base_uri": "https://localhost:8080/",
          "height": 171
        },
        "outputId": "9e8f1439-9ae3-4416-ad6d-dce671132ec4"
      },
      "cell_type": "code",
      "source": [
        "# iris_groups.apply(range)\n",
        "\n",
        "# Use aggregate for groups\n",
        "iris_groups.aggregate(range)"
      ],
      "execution_count": 48,
      "outputs": [
        {
          "output_type": "execute_result",
          "data": {
            "text/html": [
              "<div>\n",
              "<style scoped>\n",
              "    .dataframe tbody tr th:only-of-type {\n",
              "        vertical-align: middle;\n",
              "    }\n",
              "\n",
              "    .dataframe tbody tr th {\n",
              "        vertical-align: top;\n",
              "    }\n",
              "\n",
              "    .dataframe thead th {\n",
              "        text-align: right;\n",
              "    }\n",
              "</style>\n",
              "<table border=\"1\" class=\"dataframe\">\n",
              "  <thead>\n",
              "    <tr style=\"text-align: right;\">\n",
              "      <th></th>\n",
              "      <th>sepal length (cm)</th>\n",
              "      <th>sepal width (cm)</th>\n",
              "      <th>petal length (cm)</th>\n",
              "      <th>petal width (cm)</th>\n",
              "    </tr>\n",
              "    <tr>\n",
              "      <th>species</th>\n",
              "      <th></th>\n",
              "      <th></th>\n",
              "      <th></th>\n",
              "      <th></th>\n",
              "    </tr>\n",
              "  </thead>\n",
              "  <tbody>\n",
              "    <tr>\n",
              "      <th>setosa</th>\n",
              "      <td>1.5</td>\n",
              "      <td>2.1</td>\n",
              "      <td>0.9</td>\n",
              "      <td>0.5</td>\n",
              "    </tr>\n",
              "    <tr>\n",
              "      <th>versicolor</th>\n",
              "      <td>2.1</td>\n",
              "      <td>1.4</td>\n",
              "      <td>2.1</td>\n",
              "      <td>0.8</td>\n",
              "    </tr>\n",
              "    <tr>\n",
              "      <th>virginica</th>\n",
              "      <td>3.0</td>\n",
              "      <td>1.6</td>\n",
              "      <td>2.4</td>\n",
              "      <td>1.1</td>\n",
              "    </tr>\n",
              "  </tbody>\n",
              "</table>\n",
              "</div>"
            ],
            "text/plain": [
              "            sepal length (cm)  sepal width (cm)  petal length (cm)  \\\n",
              "species                                                              \n",
              "setosa                    1.5               2.1                0.9   \n",
              "versicolor                2.1               1.4                2.1   \n",
              "virginica                 3.0               1.6                2.4   \n",
              "\n",
              "            petal width (cm)  \n",
              "species                       \n",
              "setosa                   0.5  \n",
              "versicolor               0.8  \n",
              "virginica                1.1  "
            ]
          },
          "metadata": {
            "tags": []
          },
          "execution_count": 48
        }
      ]
    },
    {
      "metadata": {
        "id": "vp-m-PYZ-22f",
        "colab_type": "code",
        "colab": {}
      },
      "cell_type": "code",
      "source": [
        ""
      ],
      "execution_count": 0,
      "outputs": []
    }
  ]
}