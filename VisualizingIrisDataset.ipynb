{
  "nbformat": 4,
  "nbformat_minor": 0,
  "metadata": {
    "colab": {
      "name": "VisualizingIrisDataset.ipynb",
      "version": "0.3.2",
      "provenance": [],
      "include_colab_link": true
    },
    "kernelspec": {
      "name": "python3",
      "display_name": "Python 3"
    }
  },
  "cells": [
    {
      "cell_type": "markdown",
      "metadata": {
        "id": "view-in-github",
        "colab_type": "text"
      },
      "source": [
        "<a href=\"https://colab.research.google.com/github/kumarnikhil936/ArtificialIntelligenceBootcamp/blob/master/VisualizingIrisDataset.ipynb\" target=\"_parent\"><img src=\"https://colab.research.google.com/assets/colab-badge.svg\" alt=\"Open In Colab\"/></a>"
      ]
    },
    {
      "metadata": {
        "id": "32fpDrkiYNiG",
        "colab_type": "code",
        "colab": {}
      },
      "cell_type": "code",
      "source": [
        "import numpy as np\n",
        "import pandas as pd \n",
        "import matplotlib.pyplot as plt\n",
        "%matplotlib inline \n",
        "from sklearn.datasets import load_iris"
      ],
      "execution_count": 0,
      "outputs": []
    },
    {
      "metadata": {
        "id": "OghVMCtyG12K",
        "colab_type": "code",
        "colab": {}
      },
      "cell_type": "code",
      "source": [
        "iris = load_iris()\n",
        "# print(iris.DESCR)"
      ],
      "execution_count": 0,
      "outputs": []
    },
    {
      "metadata": {
        "id": "qXKtpYcXHhNP",
        "colab_type": "code",
        "colab": {}
      },
      "cell_type": "code",
      "source": [
        "data = iris.data\n",
        "target = iris.target"
      ],
      "execution_count": 0,
      "outputs": []
    },
    {
      "metadata": {
        "id": "skG6UZFWHhxW",
        "colab_type": "code",
        "colab": {}
      },
      "cell_type": "code",
      "source": [
        ""
      ],
      "execution_count": 0,
      "outputs": []
    },
    {
      "metadata": {
        "id": "YO-qatl7H05V",
        "colab_type": "code",
        "colab": {}
      },
      "cell_type": "code",
      "source": [
        "# Take random 100 samples for train and rest for test\n",
        "train = np.random.choice(np.arange(len(data)), 100, replace=False)\n",
        "test = np.setdiff1d(np.arange(len(data)), train)"
      ],
      "execution_count": 0,
      "outputs": []
    },
    {
      "metadata": {
        "id": "jUTo28V7Ietw",
        "colab_type": "code",
        "colab": {
          "base_uri": "https://localhost:8080/",
          "height": 302
        },
        "outputId": "aae81692-6285-46fe-bcc9-d981bec3f9df"
      },
      "cell_type": "code",
      "source": [
        "markermap = {0: 'o', 1: '^', 2: '*'}\n",
        "colormap = {0: 'r', 1: 'g', 2: 'y'}\n",
        "var1, var2 = 0, 1 # sepal length and width\n",
        "for length, width, species in zip(data[train, var1], data[train, var2], target[train]):\n",
        "  plt.scatter(x=length, y=width, marker=markermap[species], c=colormap[species])\n",
        "plt.xlabel(iris.feature_names[var1])\n",
        "plt.ylabel(iris.feature_names[var2])\n"
      ],
      "execution_count": 18,
      "outputs": [
        {
          "output_type": "execute_result",
          "data": {
            "text/plain": [
              "Text(0, 0.5, 'sepal width (cm)')"
            ]
          },
          "metadata": {
            "tags": []
          },
          "execution_count": 18
        },
        {
          "output_type": "display_data",
          "data": {
            "image/png": "[encoded data removed]",
            "text/plain": [
              "<Figure size 432x288 with 1 Axes>"
            ]
          },
          "metadata": {
            "tags": []
          }
        }
      ]
    },
    {
      "metadata": {
        "id": "A4ce5jV8I16l",
        "colab_type": "code",
        "colab": {
          "base_uri": "https://localhost:8080/",
          "height": 302
        },
        "outputId": "982cccb1-dd25-42af-b77a-520897210bf7"
      },
      "cell_type": "code",
      "source": [
        "# Now also plotting unlabeled (test) data\n",
        "\n",
        "markermap = {0: 'o', 1: '^', 2: '*'}\n",
        "colormap = {0: 'r', 1: 'g', 2: 'y'}\n",
        "var1, var2 = 0, 1 # sepal length and width\n",
        "for length, width, species in zip(data[train, var1], data[train, var2], target[train]):\n",
        "  plt.scatter(x=length, y=width, marker=markermap[species], c=colormap[species])\n",
        "for length, width in zip(data[test, var1], data[test, var2]):\n",
        "  plt.scatter(x=length, y=width, marker='s', c='b')\n",
        "plt.xlabel(iris.feature_names[var1])\n",
        "plt.ylabel(iris.feature_names[var2])"
      ],
      "execution_count": 23,
      "outputs": [
        {
          "output_type": "execute_result",
          "data": {
            "text/plain": [
              "Text(0, 0.5, 'sepal width (cm)')"
            ]
          },
          "metadata": {
            "tags": []
          },
          "execution_count": 23
        },
        {
          "output_type": "display_data",
          "data": {
            "image/png": "[encoded data removed]",
            "text/plain": [
              "<Figure size 432x288 with 1 Axes>"
            ]
          },
          "metadata": {
            "tags": []
          }
        }
      ]
    },
    {
      "metadata": {
        "id": "wkt6qIPuI2_7",
        "colab_type": "code",
        "colab": {
          "base_uri": "https://localhost:8080/",
          "height": 302
        },
        "outputId": "8bd8bb46-d2df-4d3b-a8c5-fb41482f9725"
      },
      "cell_type": "code",
      "source": [
        "# Do the same as above for petal length and width\n",
        "\n",
        "markermap = {0: 'o', 1: '^', 2: '*'}\n",
        "colormap = {0: 'r', 1: 'g', 2: 'y'}\n",
        "var1, var2 = 2, 3 # petal length and width\n",
        "for length, width, species in zip(data[train, var1], data[train, var2], target[train]):\n",
        "  plt.scatter(x=length, y=width, marker=markermap[species], c=colormap[species], linewidths=1)\n",
        "for length, width in zip(data[test, var1], data[test, var2]):\n",
        "  plt.scatter(x=length, y=width, marker='s', c='b', linewidths=1)\n",
        "plt.xlabel(iris.feature_names[var1])\n",
        "plt.ylabel(iris.feature_names[var2])"
      ],
      "execution_count": 31,
      "outputs": [
        {
          "output_type": "execute_result",
          "data": {
            "text/plain": [
              "Text(0, 0.5, 'petal width (cm)')"
            ]
          },
          "metadata": {
            "tags": []
          },
          "execution_count": 31
        },
        {
          "output_type": "display_data",
          "data": {
            "image/png": "[encoded data removed]",
            "text/plain": [
              "<Figure size 432x288 with 1 Axes>"
            ]
          },
          "metadata": {
            "tags": []
          }
        }
      ]
    },
    {
      "metadata": {
        "id": "IPhbwMkcLxs0",
        "colab_type": "code",
        "colab": {}
      },
      "cell_type": "code",
      "source": [
        ""
      ],
      "execution_count": 0,
      "outputs": []
    }
  ]
}