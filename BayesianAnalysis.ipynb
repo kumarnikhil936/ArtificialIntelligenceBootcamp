{
  "nbformat": 4,
  "nbformat_minor": 0,
  "metadata": {
    "colab": {
      "name": "BayesianAnalysis.ipynb",
      "version": "0.3.2",
      "provenance": [],
      "collapsed_sections": [],
      "include_colab_link": true
    },
    "kernelspec": {
      "name": "python3",
      "display_name": "Python 3"
    }
  },
  "cells": [
    {
      "cell_type": "markdown",
      "metadata": {
        "id": "view-in-github",
        "colab_type": "text"
      },
      "source": [
        "<a href=\"https://colab.research.google.com/github/kumarnikhil936/ArtificialIntelligenceBootcamp/blob/master/BayesianAnalysis.ipynb\" target=\"_parent\"><img src=\"https://colab.research.google.com/assets/colab-badge.svg\" alt=\"Open In Colab\"/></a>"
      ]
    },
    {
      "metadata": {
        "id": "jNEDysE0J_Mq",
        "colab_type": "text"
      },
      "cell_type": "markdown",
      "source": [
        "#Car accident:\n",
        "\n",
        "A car hit a person and a witness identifies the car is of company X. There are two car companies present - X and Y.\n",
        "\n",
        "There are 95% cabs from Y and 5% by X. Witness identifies X correctly 90% of the time and Y 85% of the times, means she says X as Y 10% times and vice versa 15% of the times."
      ]
    },
    {
      "metadata": {
        "id": "7HekdpznF40i",
        "colab_type": "code",
        "colab": {}
      },
      "cell_type": "code",
      "source": [
        "d_h = 0.9  # P(D/H) Prob that witness claims to see a X cab when X hit the person.\n",
        "h = 0.05  # P(H) Prob of car being from X\n",
        "d_nh = 0.1  # P(D|not H) Prob of witness claims to see X when Y had hit the person.\n",
        "nh = 0.95  # P(not H) Prob of car being from Y"
      ],
      "execution_count": 0,
      "outputs": []
    },
    {
      "metadata": {
        "id": "6lPtYagNU7sG",
        "colab_type": "text"
      },
      "cell_type": "markdown",
      "source": [
        "P(H|D) = P(D|H)*P(H) \\ P(D)"
      ]
    },
    {
      "metadata": {
        "id": "YzRKOlEAUlh2",
        "colab_type": "code",
        "colab": {}
      },
      "cell_type": "code",
      "source": [
        "h_d = d_h * h / (d_h*h + d_nh*nh)"
      ],
      "execution_count": 0,
      "outputs": []
    },
    {
      "metadata": {
        "id": "wJFTlO2SVPYQ",
        "colab_type": "code",
        "colab": {
          "base_uri": "https://localhost:8080/",
          "height": 37
        },
        "outputId": "df130403-034c-4de6-eea7-29554ddcc8e1"
      },
      "cell_type": "code",
      "source": [
        "print(\"Probability that the car was actually by X: \", h_d)"
      ],
      "execution_count": 8,
      "outputs": [
        {
          "output_type": "stream",
          "text": [
            "Probabiity that the car was actually by X:  0.32142857142857145\n"
          ],
          "name": "stdout"
        }
      ]
    },
    {
      "metadata": {
        "id": "gcBq4vuKVkn4",
        "colab_type": "text"
      },
      "cell_type": "markdown",
      "source": [
        "This probability is less than 0.5, hence witness is not reliable enough to be trusted. "
      ]
    },
    {
      "metadata": {
        "id": "x-Eue89yVkQp",
        "colab_type": "code",
        "colab": {}
      },
      "cell_type": "code",
      "source": [
        ""
      ],
      "execution_count": 0,
      "outputs": []
    },
    {
      "metadata": {
        "id": "Qo_J1ttWVQS4",
        "colab_type": "code",
        "colab": {}
      },
      "cell_type": "code",
      "source": [
        ""
      ],
      "execution_count": 0,
      "outputs": []
    }
  ]
}