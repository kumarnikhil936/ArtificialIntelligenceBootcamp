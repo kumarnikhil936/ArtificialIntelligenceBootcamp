{
  "nbformat": 4,
  "nbformat_minor": 0,
  "metadata": {
    "colab": {
      "name": "ConfidenceInterval.ipynb",
      "version": "0.3.2",
      "provenance": [],
      "collapsed_sections": [],
      "include_colab_link": true
    },
    "kernelspec": {
      "name": "python3",
      "display_name": "Python 3"
    }
  },
  "cells": [
    {
      "cell_type": "markdown",
      "metadata": {
        "id": "view-in-github",
        "colab_type": "text"
      },
      "source": [
        "<a href=\"https://colab.research.google.com/github/kumarnikhil936/ArtificialIntelligenceBootcamp/blob/master/ConfidenceInterval.ipynb\" target=\"_parent\"><img src=\"https://colab.research.google.com/assets/colab-badge.svg\" alt=\"Open In Colab\"/></a>"
      ]
    },
    {
      "metadata": {
        "id": "RIGzT7LScwDz",
        "colab_type": "text"
      },
      "cell_type": "markdown",
      "source": [
        "Proportions:\n",
        "\n",
        "Sample size = N,\n",
        "Successes = M, \n",
        "so failures = N - M\n",
        "\n",
        "Sample proporton in that case becomes M/N, which basically is the sample mean of the dataset.\n",
        "\n",
        "Now, based on previous knoledge from the data, we wish to know what will be the population proportion based on sample proportion. \n",
        "\n",
        "We therefore define Confidence Intervals, which we believe will contain the true population proportion.\n"
      ]
    },
    {
      "metadata": {
        "id": "BhTMRTkL_THD",
        "colab_type": "code",
        "colab": {}
      },
      "cell_type": "code",
      "source": [
        "import statsmodels.api as sm"
      ],
      "execution_count": 0,
      "outputs": []
    },
    {
      "metadata": {
        "id": "WugjJBWHiaDH",
        "colab_type": "code",
        "colab": {
          "base_uri": "https://localhost:8080/",
          "height": 37
        },
        "outputId": "945c39e6-6458-4a76-f958-d2028aa974ec"
      },
      "cell_type": "code",
      "source": [
        "M = 310\n",
        "N = 1126\n",
        "sample_proportions = M/N\n",
        "\n",
        "print(sample_proportions)"
      ],
      "execution_count": 3,
      "outputs": [
        {
          "output_type": "stream",
          "text": [
            "0.2753108348134991\n"
          ],
          "name": "stdout"
        }
      ]
    },
    {
      "metadata": {
        "id": "Gk2xdOCHikOT",
        "colab_type": "code",
        "colab": {
          "base_uri": "https://localhost:8080/",
          "height": 37
        },
        "outputId": "28fd9055-d261-4f2f-94a8-3186c3a89696"
      },
      "cell_type": "code",
      "source": [
        "# Computer confidence intervals \n",
        "from statsmodels.stats.proportion import proportion_confint\n",
        "\n",
        "conf_level = 0.95\n",
        "\n",
        "ci = proportion_confint(count=M, nobs=N, alpha=(1 - conf_level))\n",
        "print(ci)"
      ],
      "execution_count": 6,
      "outputs": [
        {
          "output_type": "stream",
          "text": [
            "(0.24922129423231776, 0.30140037539468045)\n"
          ],
          "name": "stdout"
        }
      ]
    },
    {
      "metadata": {
        "id": "BBc3TWtgjZcX",
        "colab_type": "text"
      },
      "cell_type": "markdown",
      "source": [
        "From previous result, we see that success if guaranteed with 95% confidence in the interval 0.24 - 0.3\n",
        "\n",
        "Now we need to check if the claim that success of 30% is actually correct or not. \n",
        "\n",
        "So, we have a proportion p = 0.3 and we have a null hypotheses that p is not equal to 0.3\n",
        "\n",
        "We calculate a p-value which tells prob. of observing a test statistic as extreme as test statistic actually observed. If p-value is smaller than 0.05, we say that the claim was false.\n",
        "\n"
      ]
    },
    {
      "metadata": {
        "id": "ZmKNp9jsjB-Z",
        "colab_type": "code",
        "colab": {
          "base_uri": "https://localhost:8080/",
          "height": 37
        },
        "outputId": "e8b5d793-9a2f-4396-8ed9-8c71af1a15d7"
      },
      "cell_type": "code",
      "source": [
        "# To perform the test described above\n",
        "from statsmodels.stats.proportion import proportions_ztest\n",
        "\n",
        "res = proportions_ztest(count=M, nobs=N, value=0.3, alternative='two-sided')\n",
        "print(res)  \n",
        "# first value of the tuple is value of test statistic and second is the p-value\n"
      ],
      "execution_count": 8,
      "outputs": [
        {
          "output_type": "stream",
          "text": [
            "(-1.8547614674673856, 0.06363029677684083)\n"
          ],
          "name": "stdout"
        }
      ]
    },
    {
      "metadata": {
        "id": "oNjckPDAmBKp",
        "colab_type": "text"
      },
      "cell_type": "markdown",
      "source": [
        "Since p-value of 0.06363 > 0.005, so we do not have enough statistical evidence to disagree with the earlier claim. \n",
        "\n",
        "Now lets assume we have two scenarios, one with 516 observations with 108 successes and another with 510 observations with 144 successes.\n",
        "\n",
        "So, null hypotheses in this case says that the proportion of success in both cases are the same, which we will check in a similar way using p-value.\n"
      ]
    },
    {
      "metadata": {
        "id": "04OyuIaElxXL",
        "colab_type": "code",
        "colab": {
          "base_uri": "https://localhost:8080/",
          "height": 37
        },
        "outputId": "9c66a81f-b332-4b9c-8877-4574c9970b18"
      },
      "cell_type": "code",
      "source": [
        "res = proportions_ztest(count=[108, 144], nobs=[516, 510], alternative='two-sided')\n",
        "print(res)  "
      ],
      "execution_count": 9,
      "outputs": [
        {
          "output_type": "stream",
          "text": [
            "(-2.7179204953199174, 0.0065693621488401655)\n"
          ],
          "name": "stdout"
        }
      ]
    },
    {
      "metadata": {
        "id": "gPgpZSyFpiyI",
        "colab_type": "text"
      },
      "cell_type": "markdown",
      "source": [
        "p-value of 0.00656 > 0.005 so we reject the null hypotheses, means the success proportion is different for both cases.\n",
        "\n",
        "The chi-square test for goodness of fit generalizes the test for a population proportion. Earlier, we dealt with binary cases, whether variable have or not have some characteristics. \n",
        "\n",
        "So, take a situation with 5 colored shoes and we have to check if all of them have same probability (equally likely i.e. p = 0.2), which forms our null hypotheses.\n",
        "\n",
        "Total buyers = 464 from which 98 bought blue, 117 bought black, 73 bought white, 80 bought brown, 96 bought red."
      ]
    },
    {
      "metadata": {
        "id": "M7m-eR5bpcET",
        "colab_type": "code",
        "colab": {
          "base_uri": "https://localhost:8080/",
          "height": 37
        },
        "outputId": "8465adf2-d821-4cfa-bf37-f07d5ad474e4"
      },
      "cell_type": "code",
      "source": [
        "from scipy.stats import chisquare\n",
        "\n",
        "chisquare(f_obs=[98, 117, 73, 80, 96], f_exp=[464*0.2, 464*0.2, 464*0.2, 464*0.2, 464*0.2])"
      ],
      "execution_count": 11,
      "outputs": [
        {
          "output_type": "execute_result",
          "data": {
            "text/plain": [
              "Power_divergenceResult(statistic=12.70258620689655, pvalue=0.012824256359695625)"
            ]
          },
          "metadata": {
            "tags": []
          },
          "execution_count": 11
        }
      ]
    },
    {
      "metadata": {
        "id": "JoSZQgnfruRN",
        "colab_type": "text"
      },
      "cell_type": "markdown",
      "source": [
        "p-value is 0.0128 which means null hyp. is wrong i.e. some shoes are more popular than others. \n"
      ]
    },
    {
      "metadata": {
        "id": "5VNxUk78p4h6",
        "colab_type": "code",
        "colab": {}
      },
      "cell_type": "code",
      "source": [
        ""
      ],
      "execution_count": 0,
      "outputs": []
    }
  ]
}